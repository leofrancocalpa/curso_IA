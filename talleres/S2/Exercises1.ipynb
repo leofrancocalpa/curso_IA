{
 "cells": [
  {
   "cell_type": "markdown",
   "metadata": {},
   "source": [
    "# Python Exercises, practice  \n",
    "\n",
    "\n",
    "+ __Student 1:__ Leonardo Franco\n",
    "+ __Student 2:__ Alvaro Gomez Rey"
   ]
  },
  {
   "cell_type": "markdown",
   "metadata": {},
   "source": [
    "__1 exercise__\n",
    "\n",
    "print hello world"
   ]
  },
  {
   "cell_type": "code",
   "execution_count": 1,
   "metadata": {},
   "outputs": [
    {
     "name": "stdout",
     "output_type": "stream",
     "text": [
      "Hello World\n"
     ]
    }
   ],
   "source": [
    "print(\"Hello World\")"
   ]
  },
  {
   "cell_type": "markdown",
   "metadata": {},
   "source": [
    "__2 exercise__\n",
    "\n",
    "Let's create a variable with the name _variable_ and assign it the value \"hello world\"."
   ]
  },
  {
   "cell_type": "code",
   "execution_count": 2,
   "metadata": {},
   "outputs": [],
   "source": [
    "variable = \"hello world\""
   ]
  },
  {
   "cell_type": "markdown",
   "metadata": {},
   "source": [
    "__3 exercise__\n",
    "\n",
    "Print the type of _variable_"
   ]
  },
  {
   "cell_type": "code",
   "execution_count": 3,
   "metadata": {},
   "outputs": [
    {
     "name": "stdout",
     "output_type": "stream",
     "text": [
      "<class 'str'>\n"
     ]
    }
   ],
   "source": [
    "print(type(variable))"
   ]
  },
  {
   "cell_type": "markdown",
   "metadata": {},
   "source": [
    "__4 exercise__\n",
    "\n",
    "Let's remove the word \" world\" from _variable_"
   ]
  },
  {
   "cell_type": "code",
   "execution_count": 4,
   "metadata": {},
   "outputs": [
    {
     "name": "stdout",
     "output_type": "stream",
     "text": [
      "hello \n"
     ]
    }
   ],
   "source": [
    "variable = variable.replace(\"world\", \"\")\n",
    "print(variable)"
   ]
  },
  {
   "cell_type": "markdown",
   "metadata": {},
   "source": [
    "__5 exercise__\n",
    "\n",
    "Let's make a function which receives a list of number from 1 to 20 and prints only the number that are odd."
   ]
  },
  {
   "cell_type": "code",
   "execution_count": 6,
   "metadata": {},
   "outputs": [
    {
     "name": "stdout",
     "output_type": "stream",
     "text": [
      "1\n",
      "3\n",
      "5\n",
      "7\n",
      "9\n",
      "11\n",
      "13\n",
      "15\n",
      "17\n",
      "19\n"
     ]
    }
   ],
   "source": [
    "def odd_in_list(numbers):\n",
    "    for i in numbers:\n",
    "        if(i%2==1):\n",
    "            print(i)\n",
    "            \n",
    "odd_in_list(range(1,21))"
   ]
  },
  {
   "cell_type": "markdown",
   "metadata": {},
   "source": [
    "__6 exercise__\n",
    "\n",
    "Let's make a method in a Python file which receives two parameters:\n",
    "\n",
    "+ A list of integers \n",
    "+ An exponent number \n",
    "\n",
    "$b^{n} = b \\times \\dots \\times b$  \n",
    "\n",
    "The method allows us to calculate the exponentiation of each number in the list.\n",
    "\n",
    "We must import the file and use it to call the method"
   ]
  },
  {
   "cell_type": "code",
   "execution_count": 7,
   "metadata": {},
   "outputs": [
    {
     "name": "stdout",
     "output_type": "stream",
     "text": [
      "[4, 9, 16, 25, 36, 49, 64, 81]\n"
     ]
    }
   ],
   "source": [
    "numberList = [2,3,4,5,6,7,8,9]\n",
    "\n",
    "def pow_to_list(array, n):\n",
    "    return [x ** n for x in array]\n",
    "\n",
    "print(pow_to_list(numberList,2))"
   ]
  },
  {
   "cell_type": "markdown",
   "metadata": {},
   "source": [
    "__7 exercise__\n",
    "\n",
    "The idea is to do a dictionary _diccionario_ with the next keys and values:\n",
    "\n",
    "_variableUno_ : [1,2,3,4]\n",
    "\n",
    "_variableDos_ : [\"1\",\"a\",\"?\"]\n"
   ]
  },
  {
   "cell_type": "code",
   "execution_count": 10,
   "metadata": {},
   "outputs": [
    {
     "name": "stdout",
     "output_type": "stream",
     "text": [
      "dict_items([('variableUno', [1, 2, 3, 4]), ('variableDos', ['1', 'a', '?'])])\n"
     ]
    }
   ],
   "source": [
    "diccionario = {'variableUno' : [1,2,3,4], 'variableDos' : [\"1\", \"a\", \"?\"]}\n",
    "print(diccionario.items())"
   ]
  },
  {
   "cell_type": "markdown",
   "metadata": {},
   "source": [
    "__8 exercise__\n",
    "\n",
    "Change the first letter of \"Spam\" to \"z\" "
   ]
  },
  {
   "cell_type": "code",
   "execution_count": 11,
   "metadata": {},
   "outputs": [
    {
     "name": "stdout",
     "output_type": "stream",
     "text": [
      "zpam\n"
     ]
    }
   ],
   "source": [
    "word = 'Spam'\n",
    "print(word.replace(word[0], 'z'))"
   ]
  },
  {
   "cell_type": "markdown",
   "metadata": {},
   "source": [
    "__9 exercise__\n",
    "\n",
    "let's do a program which receives some parameters in order to calculate the perimeter of a rectangle.\n",
    "\n",
    "$p = 2x + 2y$"
   ]
  },
  {
   "cell_type": "code",
   "execution_count": 12,
   "metadata": {},
   "outputs": [
    {
     "name": "stdout",
     "output_type": "stream",
     "text": [
      "18\n"
     ]
    }
   ],
   "source": [
    "def get_perimeter(x,y):\n",
    "    return 2*x + 2*y\n",
    "\n",
    "print(get_perimeter(4,5))"
   ]
  },
  {
   "cell_type": "markdown",
   "metadata": {},
   "source": [
    "__10 exercise__\n",
    "\n",
    "+ Create a class that saves the name of a person, his height in meters and weights in kilograms.\n",
    "+ This class must have a operation which calculate the Body mass index (BMI).\n",
    "+ Define a list of 5 persons and print their BMI. "
   ]
  },
  {
   "cell_type": "code",
   "execution_count": 17,
   "metadata": {},
   "outputs": [
    {
     "name": "stdout",
     "output_type": "stream",
     "text": [
      "Hugo 17.301038062283737\n",
      "Paco 19.591836734693878\n",
      "Luis 20.444444444444443\n"
     ]
    }
   ],
   "source": [
    "class Person(object):\n",
    "    def __init__(self,name,height,weight):\n",
    "        self.name = name\n",
    "        self.height = height\n",
    "        self.weight = weight\n",
    "    \n",
    "    def BMI(self):\n",
    "        return self.weight / (self.height*self.height)\n",
    "    \n",
    "persons=[Person(\"Hugo\",1.70,50),Person(\"Paco\",1.75,60),Person(\"Luis\",1.50,46)]\n",
    "\n",
    "for p in persons:\n",
    "    print(p.name, p.BMI())"
   ]
  },
  {
   "cell_type": "markdown",
   "metadata": {},
   "source": [
    "__11 exercise__\n",
    "\n",
    "make a program that prints the numbers from 1 to 100\n",
    "If the number is divisible by 2 then print \"whiz\"\n",
    "if the number is divisible by 3 then print \"bang\""
   ]
  },
  {
   "cell_type": "code",
   "execution_count": 18,
   "metadata": {},
   "outputs": [
    {
     "name": "stdout",
     "output_type": "stream",
     "text": [
      "1  \n",
      "2 Whiz \n",
      "3  bang\n",
      "4 Whiz \n",
      "5  \n",
      "6 Whiz bang\n",
      "7  \n",
      "8 Whiz \n",
      "9  bang\n",
      "10 Whiz \n",
      "11  \n",
      "12 Whiz bang\n",
      "13  \n",
      "14 Whiz \n",
      "15  bang\n",
      "16 Whiz \n",
      "17  \n",
      "18 Whiz bang\n",
      "19  \n",
      "20 Whiz \n",
      "21  bang\n",
      "22 Whiz \n",
      "23  \n",
      "24 Whiz bang\n",
      "25  \n",
      "26 Whiz \n",
      "27  bang\n",
      "28 Whiz \n",
      "29  \n",
      "30 Whiz bang\n",
      "31  \n",
      "32 Whiz \n",
      "33  bang\n",
      "34 Whiz \n",
      "35  \n",
      "36 Whiz bang\n",
      "37  \n",
      "38 Whiz \n",
      "39  bang\n",
      "40 Whiz \n",
      "41  \n",
      "42 Whiz bang\n",
      "43  \n",
      "44 Whiz \n",
      "45  bang\n",
      "46 Whiz \n",
      "47  \n",
      "48 Whiz bang\n",
      "49  \n",
      "50 Whiz \n",
      "51  bang\n",
      "52 Whiz \n",
      "53  \n",
      "54 Whiz bang\n",
      "55  \n",
      "56 Whiz \n",
      "57  bang\n",
      "58 Whiz \n",
      "59  \n",
      "60 Whiz bang\n",
      "61  \n",
      "62 Whiz \n",
      "63  bang\n",
      "64 Whiz \n",
      "65  \n",
      "66 Whiz bang\n",
      "67  \n",
      "68 Whiz \n",
      "69  bang\n",
      "70 Whiz \n",
      "71  \n",
      "72 Whiz bang\n",
      "73  \n",
      "74 Whiz \n",
      "75  bang\n",
      "76 Whiz \n",
      "77  \n",
      "78 Whiz bang\n",
      "79  \n",
      "80 Whiz \n",
      "81  bang\n",
      "82 Whiz \n",
      "83  \n",
      "84 Whiz bang\n",
      "85  \n",
      "86 Whiz \n",
      "87  bang\n",
      "88 Whiz \n",
      "89  \n",
      "90 Whiz bang\n",
      "91  \n",
      "92 Whiz \n",
      "93  bang\n",
      "94 Whiz \n",
      "95  \n",
      "96 Whiz bang\n",
      "97  \n",
      "98 Whiz \n",
      "99  bang\n",
      "100 Whiz \n"
     ]
    }
   ],
   "source": [
    "array= list(range(1,101))\n",
    "whiz=\"Whiz\"\n",
    "bang=\"bang\"\n",
    "\n",
    "for i in array:\n",
    "    wordOne=\"\"\n",
    "    wordTwo=\"\"\n",
    "    if(i%2==0):\n",
    "        wordOne=whiz\n",
    "    if(i%3==0):\n",
    "        wordTwo=bang\n",
    "        \n",
    "    result= str(i) + \" {} {}\".format(wordOne,wordTwo)\n",
    "    print(result)"
   ]
  }
 ],
 "metadata": {
  "kernelspec": {
   "display_name": "Python 3",
   "language": "python",
   "name": "python3"
  },
  "language_info": {
   "codemirror_mode": {
    "name": "ipython",
    "version": 3
   },
   "file_extension": ".py",
   "mimetype": "text/x-python",
   "name": "python",
   "nbconvert_exporter": "python",
   "pygments_lexer": "ipython3",
   "version": "3.7.3"
  }
 },
 "nbformat": 4,
 "nbformat_minor": 2
}
